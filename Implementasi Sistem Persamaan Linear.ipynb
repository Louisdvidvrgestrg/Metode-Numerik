{
  "nbformat": 4,
  "nbformat_minor": 0,
  "metadata": {
    "colab": {
      "provenance": [],
      "authorship_tag": "ABX9TyOZXDHoFbBvF7pWM9JLD/vq",
      "include_colab_link": true
    },
    "kernelspec": {
      "name": "python3",
      "display_name": "Python 3"
    },
    "language_info": {
      "name": "python"
    }
  },
  "cells": [
    {
      "cell_type": "markdown",
      "metadata": {
        "id": "view-in-github",
        "colab_type": "text"
      },
      "source": [
        "<a href=\"https://colab.research.google.com/github/Louisdvidvrgestrg/Metode-Numerik/blob/main/Implementasi%20Sistem%20Persamaan%20Linear.ipynb\" target=\"_parent\"><img src=\"https://colab.research.google.com/assets/colab-badge.svg\" alt=\"Open In Colab\"/></a>"
      ]
    },
    {
      "cell_type": "markdown",
      "source": [
        "Metode Matriks Balikan"
      ],
      "metadata": {
        "id": "Gj7k-X-MoN3O"
      }
    },
    {
      "cell_type": "code",
      "source": [
        "import numpy as np\n",
        "\n",
        "# Fungsi untuk membuat matriks identitas\n",
        "def identity_matrix(n):\n",
        "    return np.identity(n)\n",
        "\n",
        "# Fungsi untuk mencari matriks balikan\n",
        "def matrix_inverse(A):\n",
        "    return np.linalg.inv(A)\n",
        "\n",
        "# Fungsi untuk mencari solusi SPL menggunakan metode matriks balikan\n",
        "def solve_spl(A, b):\n",
        "    A_inv = matrix_inverse(A)\n",
        "    return np.dot(A_inv, b)\n",
        "\n",
        "# Contoh SPL\n",
        "# 4x + 12y = 25\n",
        "# 5x + 2y = 18\n",
        "A = np.array([[4, 12], [5, 2]])\n",
        "b = np.array([25, 18])\n",
        "\n",
        "# Mencari solusi SPL\n",
        "x = solve_spl(A, b)\n",
        "\n",
        "# Menampilkan solusi\n",
        "print(\"Solusi SPL:\")\n",
        "print(\"x =\", x[0])\n",
        "print(\"y =\", x[1])\n"
      ],
      "metadata": {
        "colab": {
          "base_uri": "https://localhost:8080/"
        },
        "id": "oj-rA2Y7mzDm",
        "outputId": "e66356fc-9a10-4e87-b54d-20331e659549"
      },
      "execution_count": null,
      "outputs": [
        {
          "output_type": "stream",
          "name": "stdout",
          "text": [
            "Solusi SPL:\n",
            "x = 3.1923076923076916\n",
            "y = 1.0192307692307692\n"
          ]
        }
      ]
    },
    {
      "cell_type": "markdown",
      "source": [
        "Metode Dekomposisi LU GAUSS"
      ],
      "metadata": {
        "id": "AWIpPqKuoK7e"
      }
    },
    {
      "cell_type": "code",
      "source": [
        "import numpy as np\n",
        "\n",
        "# Fungsi untuk melakukan dekomposisi LU menggunakan metode eliminasi Gauss\n",
        "def lu_decomposition(A):\n",
        "    n = len(A)\n",
        "    L = np.zeros((n, n))\n",
        "    U = np.zeros((n, n))\n",
        "\n",
        "    # Langkah 1: Mengisi matriks U dengan elemen matriks A\n",
        "    for i in range(n):\n",
        "        for j in range(n):\n",
        "            U[i][j] = A[i][j]\n",
        "\n",
        "    # Langkah 2: Mengisi diagonal matriks L dengan 1\n",
        "    for i in range(n):\n",
        "        L[i][i] = 1\n",
        "\n",
        "    # Langkah 3: Melakukan eliminasi Gauss untuk mencari matriks L dan U\n",
        "    for k in range(n - 1):\n",
        "        for i in range(k + 1, n):\n",
        "            if U[k][k] == 0:\n",
        "                return \"Dekomposisi gagal: Matriks singular\"\n",
        "            factor = U[i][k] / U[k][k]\n",
        "            L[i][k] = factor\n",
        "            for j in range(k, n):\n",
        "                U[i][j] -= factor * U[k][j]\n",
        "\n",
        "    return L, U\n",
        "\n",
        "# Fungsi untuk mencari solusi SPL menggunakan metode dekomposisi LU\n",
        "def solve_spl_lu(A, b):\n",
        "    L, U = lu_decomposition(A)\n",
        "    n = len(A)\n",
        "    y = np.zeros(n)\n",
        "    x = np.zeros(n)\n",
        "\n",
        "    # Langkah 4: Menyelesaikan Ly = b\n",
        "    for i in range(n):\n",
        "        y[i] = b[i]\n",
        "        for j in range(i):\n",
        "            y[i] -= L[i][j] * y[j]\n",
        "\n",
        "    # Langkah 5: Menyelesaikan Ux = y\n",
        "    for i in range(n - 1, -1, -1):\n",
        "        x[i] = y[i]\n",
        "        for j in range(i + 1, n):\n",
        "            x[i] -= U[i][j] * x[j]\n",
        "        x[i] /= U[i][i]\n",
        "\n",
        "    return x\n",
        "\n",
        "# Contoh SPL\n",
        "# 4x + 12y = 25\n",
        "# 5x + 2y = 18\n",
        "A = np.array([[4, 12], [5, 2]])\n",
        "b = np.array([25, 18])\n",
        "\n",
        "# Mencari solusi SPL menggunakan dekomposisi LU\n",
        "x = solve_spl_lu(A, b)\n",
        "\n",
        "# Menampilkan solusi\n",
        "print(\"Solusi SPL:\")\n",
        "print(\"x =\", x[0])\n",
        "print(\"y =\", x[1])\n"
      ],
      "metadata": {
        "colab": {
          "base_uri": "https://localhost:8080/"
        },
        "id": "f8z1IBKMoLgK",
        "outputId": "e1079a90-7da4-4006-b2a0-39d231665737"
      },
      "execution_count": null,
      "outputs": [
        {
          "output_type": "stream",
          "name": "stdout",
          "text": [
            "Solusi SPL:\n",
            "x = 3.1923076923076925\n",
            "y = 1.0192307692307692\n"
          ]
        }
      ]
    },
    {
      "cell_type": "markdown",
      "source": [
        "Metode Dekomposisi Crout"
      ],
      "metadata": {
        "id": "PhaRxgoKo2WP"
      }
    },
    {
      "cell_type": "code",
      "source": [
        "import numpy as np\n",
        "\n",
        "# Fungsi untuk melakukan dekomposisi Crout\n",
        "def crout_decomposition(A):\n",
        "    n = len(A)\n",
        "    L = np.zeros((n, n))\n",
        "    U = np.zeros((n, n))\n",
        "\n",
        "    for j in range(n):\n",
        "        # Menghitung bagian dari matriks U\n",
        "        for i in range(j, n):\n",
        "            sum = 0\n",
        "            for k in range(j):\n",
        "                sum += L[i][k] * U[k][j]\n",
        "            U[i][j] = A[i][j] - sum\n",
        "\n",
        "        # Menghitung bagian dari matriks L\n",
        "        for i in range(j, n):\n",
        "            if i == j:\n",
        "                L[i][j] = 1\n",
        "            else:\n",
        "                sum = 0\n",
        "                for k in range(j):\n",
        "                    sum += L[j][k] * U[k][i]\n",
        "                L[j][i] = (A[j][i] - sum) / U[j][j]\n",
        "\n",
        "    return L, U\n",
        "\n",
        "# Fungsi untuk mencari solusi SPL menggunakan metode dekomposisi Crout\n",
        "def solve_spl_crout(A, b):\n",
        "    L, U = crout_decomposition(A)\n",
        "    n = len(A)\n",
        "    y = np.zeros(n)\n",
        "    x = np.zeros(n)\n",
        "\n",
        "    # Menyelesaikan Ly = b\n",
        "    for i in range(n):\n",
        "        y[i] = b[i]\n",
        "        for j in range(i):\n",
        "            y[i] -= L[i][j] * y[j]\n",
        "\n",
        "    # Menyelesaikan Ux = y\n",
        "    for i in range(n - 1, -1, -1):\n",
        "        x[i] = y[i]\n",
        "        for j in range(i + 1, n):\n",
        "            x[i] -= U[i][j] * x[j]\n",
        "        x[i] /= U[i][i]\n",
        "\n",
        "    return x\n",
        "\n",
        "# Contoh SPL\n",
        "# 4x + 12y = 25\n",
        "# 5x + 2y = 18\n",
        "A = np.array([[4, 12], [5, 2]])\n",
        "b = np.array([25, 18])\n",
        "\n",
        "# Mencari solusi SPL menggunakan dekomposisi Crout\n",
        "x = solve_spl_crout(A, b)\n",
        "\n",
        "# Menampilkan solusi\n",
        "print(\"Solusi SPL:\")\n",
        "print(\"x =\", x[0])\n",
        "print(\"y =\", x[1])\n"
      ],
      "metadata": {
        "colab": {
          "base_uri": "https://localhost:8080/"
        },
        "id": "a13ROEn6o2lW",
        "outputId": "7d0f15b1-d243-45a2-a645-27eb7344f42c"
      },
      "execution_count": null,
      "outputs": [
        {
          "output_type": "stream",
          "name": "stdout",
          "text": [
            "Solusi SPL:\n",
            "x = 6.25\n",
            "y = 9.0\n"
          ]
        }
      ]
    }
  ]
}